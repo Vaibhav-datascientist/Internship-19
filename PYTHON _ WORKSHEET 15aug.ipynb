{
 "cells": [
  {
   "cell_type": "markdown",
   "metadata": {},
   "source": [
    "11. Python program to find the factorial of a number\n"
   ]
  },
  {
   "cell_type": "code",
   "execution_count": 20,
   "metadata": {},
   "outputs": [
    {
     "name": "stdout",
     "output_type": "stream",
     "text": [
      "Enter the number:9\n",
      "The factorial of 8 is 9\n",
      "The factorial of 7 is 72\n",
      "The factorial of 6 is 504\n",
      "The factorial of 5 is 3024\n",
      "The factorial of 4 is 15120\n",
      "The factorial of 3 is 60480\n",
      "The factorial of 2 is 181440\n",
      "The factorial of 1 is 362880\n",
      "The factorial of 0 is 362880\n"
     ]
    }
   ],
   "source": [
    "# Enter any number to get factorial \n",
    "i=int(input(\"Enter the number:\"))\n",
    "fac=1\n",
    "while(i>0):\n",
    "    fac=fac*i\n",
    "    i=i-1\n",
    "    print(\"The factorial of\",i,\"is\",fac)"
   ]
  },
  {
   "cell_type": "code",
   "execution_count": null,
   "metadata": {},
   "outputs": [],
   "source": []
  },
  {
   "cell_type": "markdown",
   "metadata": {},
   "source": [
    "12. Python program to find whether a number is prime or composite\n"
   ]
  },
  {
   "cell_type": "code",
   "execution_count": 21,
   "metadata": {},
   "outputs": [
    {
     "name": "stdout",
     "output_type": "stream",
     "text": [
      "Enter any number : 5\n",
      "5 is a PRIME number\n"
     ]
    }
   ],
   "source": [
    "# Enter any number to know number is prime or not \n",
    "num = int(input(\"Enter any number : \"))\n",
    "if num > 1:\n",
    "    for i in range(2, num):\n",
    "        if (num % i) == 0:\n",
    "            print(num, \"is NOT a prime number\")\n",
    "            break\n",
    "    else:\n",
    "        print(num, \"is a PRIME number\")\n",
    "elif num == 0 or 1:\n",
    "    print(num, \"is a neither prime NOR composite number\")\n",
    "else:\n",
    "    print(num, \"is NOT a prime number it is a COMPOSITE number\")"
   ]
  },
  {
   "cell_type": "code",
   "execution_count": null,
   "metadata": {},
   "outputs": [],
   "source": []
  },
  {
   "cell_type": "markdown",
   "metadata": {},
   "source": [
    "13. Python program to check whether a given string is palindrome or not\n"
   ]
  },
  {
   "cell_type": "code",
   "execution_count": 22,
   "metadata": {},
   "outputs": [
    {
     "name": "stdout",
     "output_type": "stream",
     "text": [
      "Yes\n"
     ]
    }
   ],
   "source": [
    "a = \"dad\"\n",
    " \n",
    "b = \"\"\n",
    "for i in a:\n",
    "    b = i + b\n",
    "    \n",
    "if (a == b):\n",
    "    print(\"Yes\")\n",
    "else:\n",
    "    print(\"No\")\n",
    "   "
   ]
  },
  {
   "cell_type": "code",
   "execution_count": null,
   "metadata": {},
   "outputs": [],
   "source": []
  },
  {
   "cell_type": "markdown",
   "metadata": {},
   "source": [
    "14. Python program to get the third side of right-angled triangle from two given sides\n"
   ]
  },
  {
   "cell_type": "code",
   "execution_count": 39,
   "metadata": {},
   "outputs": [
    {
     "name": "stdout",
     "output_type": "stream",
     "text": [
      "Hypotenuse = 13.0\n",
      "Adjacent = 5.0\n",
      "Opposite = 12.0\n",
      "You know the answer!\n"
     ]
    }
   ],
   "source": [
    "# taking 12,5,13 as  three sides of a right angled triangle :-\n",
    "def pythagoras(opposite_side,adjacent_side,hypotenuse):\n",
    "        if opposite_side == str(\"x\"):\n",
    "            return (\"Opposite = \" + str(((hypotenuse**2) - (adjacent_side**2))**0.5))\n",
    "        elif adjacent_side == str(\"x\"):\n",
    "            return (\"Adjacent = \" + str(((hypotenuse**2) - (opposite_side**2))**0.5))\n",
    "        elif hypotenuse == str(\"x\"):\n",
    "            return (\"Hypotenuse = \" + str(((opposite_side**2) + (adjacent_side**2))**0.5))\n",
    "        else:\n",
    "            return \"You know the answer!\"\n",
    "    \n",
    "print(pythagoras(12,5,'x'))\n",
    "print(pythagoras(12,'x',13))\n",
    "print(pythagoras('x',5,13))\n",
    "print(pythagoras(12,5,13))"
   ]
  },
  {
   "cell_type": "code",
   "execution_count": null,
   "metadata": {},
   "outputs": [],
   "source": []
  },
  {
   "cell_type": "markdown",
   "metadata": {},
   "source": [
    "15. Python program to print the frequency of each of the characters present in a given string\n"
   ]
  },
  {
   "cell_type": "code",
   "execution_count": 43,
   "metadata": {},
   "outputs": [
    {
     "name": "stdout",
     "output_type": "stream",
     "text": [
      "Given String:  an honest employee equal to a hundred employees\n",
      "Frequency of each character :\n",
      "  {'a': 1}\n",
      "Frequency of each character :\n",
      "  {'a': 1, 'n': 1}\n",
      "Frequency of each character :\n",
      "  {'a': 1, 'n': 1, ' ': 1}\n",
      "Frequency of each character :\n",
      "  {'a': 1, 'n': 1, ' ': 1, 'h': 1}\n",
      "Frequency of each character :\n",
      "  {'a': 1, 'n': 1, ' ': 1, 'h': 1, 'o': 1}\n",
      "Frequency of each character :\n",
      "  {'a': 1, 'n': 2, ' ': 1, 'h': 1, 'o': 1}\n",
      "Frequency of each character :\n",
      "  {'a': 1, 'n': 2, ' ': 1, 'h': 1, 'o': 1, 'e': 1}\n",
      "Frequency of each character :\n",
      "  {'a': 1, 'n': 2, ' ': 1, 'h': 1, 'o': 1, 'e': 1, 's': 1}\n",
      "Frequency of each character :\n",
      "  {'a': 1, 'n': 2, ' ': 1, 'h': 1, 'o': 1, 'e': 1, 's': 1, 't': 1}\n",
      "Frequency of each character :\n",
      "  {'a': 1, 'n': 2, ' ': 2, 'h': 1, 'o': 1, 'e': 1, 's': 1, 't': 1}\n",
      "Frequency of each character :\n",
      "  {'a': 1, 'n': 2, ' ': 2, 'h': 1, 'o': 1, 'e': 2, 's': 1, 't': 1}\n",
      "Frequency of each character :\n",
      "  {'a': 1, 'n': 2, ' ': 2, 'h': 1, 'o': 1, 'e': 2, 's': 1, 't': 1, 'm': 1}\n",
      "Frequency of each character :\n",
      "  {'a': 1, 'n': 2, ' ': 2, 'h': 1, 'o': 1, 'e': 2, 's': 1, 't': 1, 'm': 1, 'p': 1}\n",
      "Frequency of each character :\n",
      "  {'a': 1, 'n': 2, ' ': 2, 'h': 1, 'o': 1, 'e': 2, 's': 1, 't': 1, 'm': 1, 'p': 1, 'l': 1}\n",
      "Frequency of each character :\n",
      "  {'a': 1, 'n': 2, ' ': 2, 'h': 1, 'o': 2, 'e': 2, 's': 1, 't': 1, 'm': 1, 'p': 1, 'l': 1}\n",
      "Frequency of each character :\n",
      "  {'a': 1, 'n': 2, ' ': 2, 'h': 1, 'o': 2, 'e': 2, 's': 1, 't': 1, 'm': 1, 'p': 1, 'l': 1, 'y': 1}\n",
      "Frequency of each character :\n",
      "  {'a': 1, 'n': 2, ' ': 2, 'h': 1, 'o': 2, 'e': 3, 's': 1, 't': 1, 'm': 1, 'p': 1, 'l': 1, 'y': 1}\n",
      "Frequency of each character :\n",
      "  {'a': 1, 'n': 2, ' ': 2, 'h': 1, 'o': 2, 'e': 4, 's': 1, 't': 1, 'm': 1, 'p': 1, 'l': 1, 'y': 1}\n",
      "Frequency of each character :\n",
      "  {'a': 1, 'n': 2, ' ': 3, 'h': 1, 'o': 2, 'e': 4, 's': 1, 't': 1, 'm': 1, 'p': 1, 'l': 1, 'y': 1}\n",
      "Frequency of each character :\n",
      "  {'a': 1, 'n': 2, ' ': 3, 'h': 1, 'o': 2, 'e': 5, 's': 1, 't': 1, 'm': 1, 'p': 1, 'l': 1, 'y': 1}\n",
      "Frequency of each character :\n",
      "  {'a': 1, 'n': 2, ' ': 3, 'h': 1, 'o': 2, 'e': 5, 's': 1, 't': 1, 'm': 1, 'p': 1, 'l': 1, 'y': 1, 'q': 1}\n",
      "Frequency of each character :\n",
      "  {'a': 1, 'n': 2, ' ': 3, 'h': 1, 'o': 2, 'e': 5, 's': 1, 't': 1, 'm': 1, 'p': 1, 'l': 1, 'y': 1, 'q': 1, 'u': 1}\n",
      "Frequency of each character :\n",
      "  {'a': 2, 'n': 2, ' ': 3, 'h': 1, 'o': 2, 'e': 5, 's': 1, 't': 1, 'm': 1, 'p': 1, 'l': 1, 'y': 1, 'q': 1, 'u': 1}\n",
      "Frequency of each character :\n",
      "  {'a': 2, 'n': 2, ' ': 3, 'h': 1, 'o': 2, 'e': 5, 's': 1, 't': 1, 'm': 1, 'p': 1, 'l': 2, 'y': 1, 'q': 1, 'u': 1}\n",
      "Frequency of each character :\n",
      "  {'a': 2, 'n': 2, ' ': 4, 'h': 1, 'o': 2, 'e': 5, 's': 1, 't': 1, 'm': 1, 'p': 1, 'l': 2, 'y': 1, 'q': 1, 'u': 1}\n",
      "Frequency of each character :\n",
      "  {'a': 2, 'n': 2, ' ': 4, 'h': 1, 'o': 2, 'e': 5, 's': 1, 't': 2, 'm': 1, 'p': 1, 'l': 2, 'y': 1, 'q': 1, 'u': 1}\n",
      "Frequency of each character :\n",
      "  {'a': 2, 'n': 2, ' ': 4, 'h': 1, 'o': 3, 'e': 5, 's': 1, 't': 2, 'm': 1, 'p': 1, 'l': 2, 'y': 1, 'q': 1, 'u': 1}\n",
      "Frequency of each character :\n",
      "  {'a': 2, 'n': 2, ' ': 5, 'h': 1, 'o': 3, 'e': 5, 's': 1, 't': 2, 'm': 1, 'p': 1, 'l': 2, 'y': 1, 'q': 1, 'u': 1}\n",
      "Frequency of each character :\n",
      "  {'a': 3, 'n': 2, ' ': 5, 'h': 1, 'o': 3, 'e': 5, 's': 1, 't': 2, 'm': 1, 'p': 1, 'l': 2, 'y': 1, 'q': 1, 'u': 1}\n",
      "Frequency of each character :\n",
      "  {'a': 3, 'n': 2, ' ': 6, 'h': 1, 'o': 3, 'e': 5, 's': 1, 't': 2, 'm': 1, 'p': 1, 'l': 2, 'y': 1, 'q': 1, 'u': 1}\n",
      "Frequency of each character :\n",
      "  {'a': 3, 'n': 2, ' ': 6, 'h': 2, 'o': 3, 'e': 5, 's': 1, 't': 2, 'm': 1, 'p': 1, 'l': 2, 'y': 1, 'q': 1, 'u': 1}\n",
      "Frequency of each character :\n",
      "  {'a': 3, 'n': 2, ' ': 6, 'h': 2, 'o': 3, 'e': 5, 's': 1, 't': 2, 'm': 1, 'p': 1, 'l': 2, 'y': 1, 'q': 1, 'u': 2}\n",
      "Frequency of each character :\n",
      "  {'a': 3, 'n': 3, ' ': 6, 'h': 2, 'o': 3, 'e': 5, 's': 1, 't': 2, 'm': 1, 'p': 1, 'l': 2, 'y': 1, 'q': 1, 'u': 2}\n",
      "Frequency of each character :\n",
      "  {'a': 3, 'n': 3, ' ': 6, 'h': 2, 'o': 3, 'e': 5, 's': 1, 't': 2, 'm': 1, 'p': 1, 'l': 2, 'y': 1, 'q': 1, 'u': 2, 'd': 1}\n",
      "Frequency of each character :\n",
      "  {'a': 3, 'n': 3, ' ': 6, 'h': 2, 'o': 3, 'e': 5, 's': 1, 't': 2, 'm': 1, 'p': 1, 'l': 2, 'y': 1, 'q': 1, 'u': 2, 'd': 1, 'r': 1}\n",
      "Frequency of each character :\n",
      "  {'a': 3, 'n': 3, ' ': 6, 'h': 2, 'o': 3, 'e': 6, 's': 1, 't': 2, 'm': 1, 'p': 1, 'l': 2, 'y': 1, 'q': 1, 'u': 2, 'd': 1, 'r': 1}\n",
      "Frequency of each character :\n",
      "  {'a': 3, 'n': 3, ' ': 6, 'h': 2, 'o': 3, 'e': 6, 's': 1, 't': 2, 'm': 1, 'p': 1, 'l': 2, 'y': 1, 'q': 1, 'u': 2, 'd': 2, 'r': 1}\n",
      "Frequency of each character :\n",
      "  {'a': 3, 'n': 3, ' ': 7, 'h': 2, 'o': 3, 'e': 6, 's': 1, 't': 2, 'm': 1, 'p': 1, 'l': 2, 'y': 1, 'q': 1, 'u': 2, 'd': 2, 'r': 1}\n",
      "Frequency of each character :\n",
      "  {'a': 3, 'n': 3, ' ': 7, 'h': 2, 'o': 3, 'e': 7, 's': 1, 't': 2, 'm': 1, 'p': 1, 'l': 2, 'y': 1, 'q': 1, 'u': 2, 'd': 2, 'r': 1}\n",
      "Frequency of each character :\n",
      "  {'a': 3, 'n': 3, ' ': 7, 'h': 2, 'o': 3, 'e': 7, 's': 1, 't': 2, 'm': 2, 'p': 1, 'l': 2, 'y': 1, 'q': 1, 'u': 2, 'd': 2, 'r': 1}\n",
      "Frequency of each character :\n",
      "  {'a': 3, 'n': 3, ' ': 7, 'h': 2, 'o': 3, 'e': 7, 's': 1, 't': 2, 'm': 2, 'p': 2, 'l': 2, 'y': 1, 'q': 1, 'u': 2, 'd': 2, 'r': 1}\n",
      "Frequency of each character :\n",
      "  {'a': 3, 'n': 3, ' ': 7, 'h': 2, 'o': 3, 'e': 7, 's': 1, 't': 2, 'm': 2, 'p': 2, 'l': 3, 'y': 1, 'q': 1, 'u': 2, 'd': 2, 'r': 1}\n",
      "Frequency of each character :\n",
      "  {'a': 3, 'n': 3, ' ': 7, 'h': 2, 'o': 4, 'e': 7, 's': 1, 't': 2, 'm': 2, 'p': 2, 'l': 3, 'y': 1, 'q': 1, 'u': 2, 'd': 2, 'r': 1}\n",
      "Frequency of each character :\n",
      "  {'a': 3, 'n': 3, ' ': 7, 'h': 2, 'o': 4, 'e': 7, 's': 1, 't': 2, 'm': 2, 'p': 2, 'l': 3, 'y': 2, 'q': 1, 'u': 2, 'd': 2, 'r': 1}\n",
      "Frequency of each character :\n",
      "  {'a': 3, 'n': 3, ' ': 7, 'h': 2, 'o': 4, 'e': 8, 's': 1, 't': 2, 'm': 2, 'p': 2, 'l': 3, 'y': 2, 'q': 1, 'u': 2, 'd': 2, 'r': 1}\n",
      "Frequency of each character :\n",
      "  {'a': 3, 'n': 3, ' ': 7, 'h': 2, 'o': 4, 'e': 9, 's': 1, 't': 2, 'm': 2, 'p': 2, 'l': 3, 'y': 2, 'q': 1, 'u': 2, 'd': 2, 'r': 1}\n",
      "Frequency of each character :\n",
      "  {'a': 3, 'n': 3, ' ': 7, 'h': 2, 'o': 4, 'e': 9, 's': 2, 't': 2, 'm': 2, 'p': 2, 'l': 3, 'y': 2, 'q': 1, 'u': 2, 'd': 2, 'r': 1}\n"
     ]
    }
   ],
   "source": [
    "# taking \"an honest employee equal to a hundred employees\"\n",
    "strZ = \"an honest employee equal to a hundred employees\"\n",
    "print(\"Given String: \",strZ)\n",
    "res = {}\n",
    "\n",
    "for keys in strZ:\n",
    "    res[keys] = res.get(keys, 0) + 1\n",
    "    print(\"Frequency of each character :\\n \",res)"
   ]
  }
 ],
 "metadata": {
  "kernelspec": {
   "display_name": "Python 3",
   "language": "python",
   "name": "python3"
  },
  "language_info": {
   "codemirror_mode": {
    "name": "ipython",
    "version": 3
   },
   "file_extension": ".py",
   "mimetype": "text/x-python",
   "name": "python",
   "nbconvert_exporter": "python",
   "pygments_lexer": "ipython3",
   "version": "3.8.5"
  }
 },
 "nbformat": 4,
 "nbformat_minor": 4
}
